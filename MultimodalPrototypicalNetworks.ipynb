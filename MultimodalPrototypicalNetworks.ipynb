{
 "cells": [
  {
   "cell_type": "code",
   "execution_count": 1,
   "id": "f0c52334",
   "metadata": {},
   "outputs": [],
   "source": [
    "from model import G_NET\n",
    "from dataset import MultimodalCUB\n",
    "from trainer import condGANTrainer\n",
    "\n",
    "from torchvision import transforms\n",
    "from torch.utils.data import DataLoader\n",
    "import torch.nn as nn\n",
    "import torch\n",
    "\n",
    "import os\n",
    "import numpy as np"
   ]
  },
  {
   "cell_type": "code",
   "execution_count": 2,
   "id": "10bac34f",
   "metadata": {},
   "outputs": [
    {
     "name": "stdout",
     "output_type": "stream",
     "text": [
      "cuda:0\n"
     ]
    }
   ],
   "source": [
    "device = 'cuda:0' if torch.cuda.is_available() else 'cpu'\n",
    "print(device)"
   ]
  },
  {
   "cell_type": "code",
   "execution_count": 3,
   "id": "5788fef7",
   "metadata": {},
   "outputs": [
    {
     "data": {
      "text/plain": [
       "device(type='cuda', index=0)"
      ]
     },
     "execution_count": 3,
     "metadata": {},
     "output_type": "execute_result"
    }
   ],
   "source": [
    "torch.device(0)"
   ]
  },
  {
   "cell_type": "code",
   "execution_count": 4,
   "id": "b0554c8e",
   "metadata": {},
   "outputs": [],
   "source": [
    "# CONFIGS\n",
    "EMBEDDING_DIM = 128\n",
    "Z_DIM = 100\n",
    "GF_DIM = 64\n",
    "TEXT_DIM = 1024\n",
    "BRANCH_NUM = 3\n",
    "BASE_SIZE = 32\n",
    "BATCH_SIZE = 16\n",
    "EPOCH = 1\n",
    "TEST_B_EXAMPLE = True\n",
    "ITERATION = 2"
   ]
  },
  {
   "cell_type": "markdown",
   "id": "42011f67",
   "metadata": {},
   "source": [
    "### Defining and loading model"
   ]
  },
  {
   "cell_type": "code",
   "execution_count": 5,
   "id": "a3a72ed6",
   "metadata": {},
   "outputs": [],
   "source": [
    "model = G_NET(gf_dim=GF_DIM, branch_num=BRANCH_NUM, ef_dim=EMBEDDING_DIM, t_dim=TEXT_DIM, z_dim=Z_DIM)"
   ]
  },
  {
   "cell_type": "code",
   "execution_count": 6,
   "id": "29015727",
   "metadata": {},
   "outputs": [],
   "source": [
    "model = nn.DataParallel(model)"
   ]
  },
  {
   "cell_type": "code",
   "execution_count": 7,
   "id": "bf5e6cbc",
   "metadata": {},
   "outputs": [],
   "source": [
    "model_path = os.path.join(os.getcwd(), 'pretrainedModels', 'netG_210000.pth')"
   ]
  },
  {
   "cell_type": "code",
   "execution_count": 8,
   "id": "afc3d449",
   "metadata": {},
   "outputs": [
    {
     "data": {
      "text/plain": [
       "<All keys matched successfully>"
      ]
     },
     "execution_count": 8,
     "metadata": {},
     "output_type": "execute_result"
    }
   ],
   "source": [
    "model.load_state_dict(torch.load(model_path, map_location=device))"
   ]
  },
  {
   "cell_type": "code",
   "execution_count": 9,
   "id": "c80a1cae",
   "metadata": {},
   "outputs": [
    {
     "data": {
      "text/plain": [
       "DataParallel(\n",
       "  (module): G_NET(\n",
       "    (ca_net): CA_NET(\n",
       "      (fc): Linear(in_features=1024, out_features=512, bias=True)\n",
       "      (relu): GLU()\n",
       "    )\n",
       "    (h_net1): INIT_STAGE_G(\n",
       "      (fc): Sequential(\n",
       "        (0): Linear(in_features=228, out_features=32768, bias=False)\n",
       "        (1): BatchNorm1d(32768, eps=1e-05, momentum=0.1, affine=True, track_running_stats=True)\n",
       "        (2): GLU()\n",
       "      )\n",
       "      (upsample1): Sequential(\n",
       "        (0): Upsample(scale_factor=2.0, mode=nearest)\n",
       "        (1): Conv2d(1024, 1024, kernel_size=(3, 3), stride=(1, 1), padding=(1, 1), bias=False)\n",
       "        (2): BatchNorm2d(1024, eps=1e-05, momentum=0.1, affine=True, track_running_stats=True)\n",
       "        (3): GLU()\n",
       "      )\n",
       "      (upsample2): Sequential(\n",
       "        (0): Upsample(scale_factor=2.0, mode=nearest)\n",
       "        (1): Conv2d(512, 512, kernel_size=(3, 3), stride=(1, 1), padding=(1, 1), bias=False)\n",
       "        (2): BatchNorm2d(512, eps=1e-05, momentum=0.1, affine=True, track_running_stats=True)\n",
       "        (3): GLU()\n",
       "      )\n",
       "      (upsample3): Sequential(\n",
       "        (0): Upsample(scale_factor=2.0, mode=nearest)\n",
       "        (1): Conv2d(256, 256, kernel_size=(3, 3), stride=(1, 1), padding=(1, 1), bias=False)\n",
       "        (2): BatchNorm2d(256, eps=1e-05, momentum=0.1, affine=True, track_running_stats=True)\n",
       "        (3): GLU()\n",
       "      )\n",
       "      (upsample4): Sequential(\n",
       "        (0): Upsample(scale_factor=2.0, mode=nearest)\n",
       "        (1): Conv2d(128, 128, kernel_size=(3, 3), stride=(1, 1), padding=(1, 1), bias=False)\n",
       "        (2): BatchNorm2d(128, eps=1e-05, momentum=0.1, affine=True, track_running_stats=True)\n",
       "        (3): GLU()\n",
       "      )\n",
       "    )\n",
       "    (img_net1): GET_IMAGE_G(\n",
       "      (img): Sequential(\n",
       "        (0): Conv2d(64, 3, kernel_size=(3, 3), stride=(1, 1), padding=(1, 1), bias=False)\n",
       "        (1): Tanh()\n",
       "      )\n",
       "    )\n",
       "    (h_net2): NEXT_STAGE_G(\n",
       "      (jointConv): Sequential(\n",
       "        (0): Conv2d(192, 128, kernel_size=(3, 3), stride=(1, 1), padding=(1, 1), bias=False)\n",
       "        (1): BatchNorm2d(128, eps=1e-05, momentum=0.1, affine=True, track_running_stats=True)\n",
       "        (2): GLU()\n",
       "      )\n",
       "      (residual): Sequential(\n",
       "        (0): ResBlock(\n",
       "          (block): Sequential(\n",
       "            (0): Conv2d(64, 128, kernel_size=(3, 3), stride=(1, 1), padding=(1, 1), bias=False)\n",
       "            (1): BatchNorm2d(128, eps=1e-05, momentum=0.1, affine=True, track_running_stats=True)\n",
       "            (2): GLU()\n",
       "            (3): Conv2d(64, 64, kernel_size=(3, 3), stride=(1, 1), padding=(1, 1), bias=False)\n",
       "            (4): BatchNorm2d(64, eps=1e-05, momentum=0.1, affine=True, track_running_stats=True)\n",
       "          )\n",
       "        )\n",
       "        (1): ResBlock(\n",
       "          (block): Sequential(\n",
       "            (0): Conv2d(64, 128, kernel_size=(3, 3), stride=(1, 1), padding=(1, 1), bias=False)\n",
       "            (1): BatchNorm2d(128, eps=1e-05, momentum=0.1, affine=True, track_running_stats=True)\n",
       "            (2): GLU()\n",
       "            (3): Conv2d(64, 64, kernel_size=(3, 3), stride=(1, 1), padding=(1, 1), bias=False)\n",
       "            (4): BatchNorm2d(64, eps=1e-05, momentum=0.1, affine=True, track_running_stats=True)\n",
       "          )\n",
       "        )\n",
       "      )\n",
       "      (upsample): Sequential(\n",
       "        (0): Upsample(scale_factor=2.0, mode=nearest)\n",
       "        (1): Conv2d(64, 64, kernel_size=(3, 3), stride=(1, 1), padding=(1, 1), bias=False)\n",
       "        (2): BatchNorm2d(64, eps=1e-05, momentum=0.1, affine=True, track_running_stats=True)\n",
       "        (3): GLU()\n",
       "      )\n",
       "    )\n",
       "    (img_net2): GET_IMAGE_G(\n",
       "      (img): Sequential(\n",
       "        (0): Conv2d(32, 3, kernel_size=(3, 3), stride=(1, 1), padding=(1, 1), bias=False)\n",
       "        (1): Tanh()\n",
       "      )\n",
       "    )\n",
       "    (h_net3): NEXT_STAGE_G(\n",
       "      (jointConv): Sequential(\n",
       "        (0): Conv2d(160, 64, kernel_size=(3, 3), stride=(1, 1), padding=(1, 1), bias=False)\n",
       "        (1): BatchNorm2d(64, eps=1e-05, momentum=0.1, affine=True, track_running_stats=True)\n",
       "        (2): GLU()\n",
       "      )\n",
       "      (residual): Sequential(\n",
       "        (0): ResBlock(\n",
       "          (block): Sequential(\n",
       "            (0): Conv2d(32, 64, kernel_size=(3, 3), stride=(1, 1), padding=(1, 1), bias=False)\n",
       "            (1): BatchNorm2d(64, eps=1e-05, momentum=0.1, affine=True, track_running_stats=True)\n",
       "            (2): GLU()\n",
       "            (3): Conv2d(32, 32, kernel_size=(3, 3), stride=(1, 1), padding=(1, 1), bias=False)\n",
       "            (4): BatchNorm2d(32, eps=1e-05, momentum=0.1, affine=True, track_running_stats=True)\n",
       "          )\n",
       "        )\n",
       "        (1): ResBlock(\n",
       "          (block): Sequential(\n",
       "            (0): Conv2d(32, 64, kernel_size=(3, 3), stride=(1, 1), padding=(1, 1), bias=False)\n",
       "            (1): BatchNorm2d(64, eps=1e-05, momentum=0.1, affine=True, track_running_stats=True)\n",
       "            (2): GLU()\n",
       "            (3): Conv2d(32, 32, kernel_size=(3, 3), stride=(1, 1), padding=(1, 1), bias=False)\n",
       "            (4): BatchNorm2d(32, eps=1e-05, momentum=0.1, affine=True, track_running_stats=True)\n",
       "          )\n",
       "        )\n",
       "      )\n",
       "      (upsample): Sequential(\n",
       "        (0): Upsample(scale_factor=2.0, mode=nearest)\n",
       "        (1): Conv2d(32, 32, kernel_size=(3, 3), stride=(1, 1), padding=(1, 1), bias=False)\n",
       "        (2): BatchNorm2d(32, eps=1e-05, momentum=0.1, affine=True, track_running_stats=True)\n",
       "        (3): GLU()\n",
       "      )\n",
       "    )\n",
       "    (img_net3): GET_IMAGE_G(\n",
       "      (img): Sequential(\n",
       "        (0): Conv2d(16, 3, kernel_size=(3, 3), stride=(1, 1), padding=(1, 1), bias=False)\n",
       "        (1): Tanh()\n",
       "      )\n",
       "    )\n",
       "  )\n",
       ")"
      ]
     },
     "execution_count": 9,
     "metadata": {},
     "output_type": "execute_result"
    }
   ],
   "source": [
    "model"
   ]
  },
  {
   "cell_type": "markdown",
   "id": "059c585a",
   "metadata": {},
   "source": [
    "### loading the dataset and preprocessing"
   ]
  },
  {
   "cell_type": "code",
   "execution_count": 10,
   "id": "0890d0f1",
   "metadata": {},
   "outputs": [],
   "source": [
    "imsize = BASE_SIZE * (2 ** (BRANCH_NUM-1))\n",
    "image_transform = transforms.Compose([\n",
    "        transforms.Resize(int(imsize * 76 / 64)),\n",
    "        transforms.RandomCrop(imsize),\n",
    "        transforms.RandomHorizontalFlip()])"
   ]
  },
  {
   "cell_type": "code",
   "execution_count": 11,
   "id": "774e4230",
   "metadata": {},
   "outputs": [
    {
     "name": "stdout",
     "output_type": "stream",
     "text": [
      "Total filenames:  11788 001.Black_footed_Albatross/Black_Footed_Albatross_0046_18.jpg\n",
      "Load filenames from: C:\\Users\\ani_1\\PycharmProjects\\Thesis\\test\\filenames.pickle (2933)\n",
      "embeddings:  (2933, 10, 1024)\n"
     ]
    }
   ],
   "source": [
    "test_dataset = MultimodalCUB(data_dir=os.getcwd(), branch_num=BRANCH_NUM,split='test', transform=image_transform)"
   ]
  },
  {
   "cell_type": "code",
   "execution_count": 12,
   "id": "b31415d9",
   "metadata": {},
   "outputs": [],
   "source": [
    "dataloader = torch.utils.data.DataLoader(\n",
    "        test_dataset, batch_size=BATCH_SIZE, drop_last=True, shuffle=False)"
   ]
  },
  {
   "cell_type": "code",
   "execution_count": 13,
   "id": "1fe137ec",
   "metadata": {},
   "outputs": [
    {
     "data": {
      "text/plain": [
       "([tensor([[[-0.9843, -0.9843, -0.9843,  ..., -0.9608, -0.9765, -0.9686],\n",
       "           [-0.9843, -0.9843, -0.9843,  ..., -0.8510, -0.9608, -0.9686],\n",
       "           [-0.9765, -0.9686, -0.9843,  ..., -0.6235, -0.8431, -0.9686],\n",
       "           ...,\n",
       "           [-0.9765, -0.9765, -0.9843,  ...,  0.1922,  0.1451,  0.0588],\n",
       "           [-0.9686, -0.9765, -0.9765,  ...,  0.1451,  0.1373,  0.1529],\n",
       "           [-0.9765, -0.9765, -0.9843,  ...,  0.1137,  0.1373,  0.0588]],\n",
       "  \n",
       "          [[-0.3176, -0.3020, -0.2941,  ..., -0.1843, -0.2157, -0.2314],\n",
       "           [-0.3176, -0.3098, -0.2941,  ..., -0.1294, -0.1843, -0.2157],\n",
       "           [-0.3098, -0.2941, -0.2784,  ..., -0.0667, -0.1373, -0.1765],\n",
       "           ...,\n",
       "           [-0.3255, -0.3098, -0.3020,  ..., -0.0745, -0.1137, -0.2000],\n",
       "           [-0.3098, -0.3020, -0.2941,  ..., -0.1216, -0.1137, -0.0980],\n",
       "           [-0.3020, -0.2941, -0.2941,  ..., -0.1686, -0.1216, -0.1922]],\n",
       "  \n",
       "          [[ 0.2000,  0.2235,  0.2392,  ...,  0.3412,  0.3255,  0.3176],\n",
       "           [ 0.2000,  0.2157,  0.2314,  ...,  0.3569,  0.3412,  0.3333],\n",
       "           [ 0.2235,  0.2392,  0.2549,  ...,  0.3725,  0.3569,  0.3412],\n",
       "           ...,\n",
       "           [ 0.2000,  0.2000,  0.2078,  ..., -0.2471, -0.2627, -0.3412],\n",
       "           [ 0.2157,  0.2235,  0.2314,  ..., -0.2941, -0.2706, -0.2549],\n",
       "           [ 0.2235,  0.2314,  0.2392,  ..., -0.3569, -0.3020, -0.3490]]]),\n",
       "  tensor([[[-0.9843, -0.9843, -0.9765,  ..., -0.9686, -0.9765, -0.9765],\n",
       "           [-0.9843, -0.9843, -0.9843,  ..., -0.9765, -0.9686, -0.9686],\n",
       "           [-0.9843, -0.9765, -0.9843,  ..., -0.9765, -0.9686, -0.9608],\n",
       "           ...,\n",
       "           [-0.9686, -0.9686, -0.9686,  ...,  0.1922,  0.2392,  0.0667],\n",
       "           [-0.9765, -0.9765, -0.9765,  ...,  0.2078,  0.0510,  0.0353],\n",
       "           [-0.9843, -0.9843, -0.9765,  ..., -0.0039,  0.0039,  0.0196]],\n",
       "  \n",
       "          [[-0.3176, -0.3098, -0.3098,  ..., -0.2235, -0.2314, -0.2314],\n",
       "           [-0.3333, -0.3176, -0.3098,  ..., -0.2078, -0.2314, -0.2392],\n",
       "           [-0.3333, -0.3255, -0.3098,  ..., -0.2000, -0.2314, -0.2314],\n",
       "           ...,\n",
       "           [-0.3098, -0.3098, -0.3020,  ..., -0.0510,  0.0039, -0.1843],\n",
       "           [-0.3020, -0.3020, -0.3020,  ..., -0.0039, -0.1922, -0.2078],\n",
       "           [-0.3020, -0.3020, -0.2941,  ..., -0.2314, -0.2471, -0.2471]],\n",
       "  \n",
       "          [[ 0.2000,  0.2235,  0.2235,  ...,  0.3176,  0.3098,  0.3098],\n",
       "           [ 0.1843,  0.2000,  0.2157,  ...,  0.3255,  0.3255,  0.3176],\n",
       "           [ 0.1843,  0.1922,  0.2078,  ...,  0.3333,  0.3333,  0.3255],\n",
       "           ...,\n",
       "           [ 0.2078,  0.2157,  0.2157,  ..., -0.2078, -0.1451, -0.3412],\n",
       "           [ 0.2235,  0.2235,  0.2235,  ..., -0.1686, -0.3569, -0.3647],\n",
       "           [ 0.2235,  0.2235,  0.2314,  ..., -0.4353, -0.4039, -0.3882]]]),\n",
       "  tensor([[[-0.9843, -0.9843, -0.9843,  ..., -0.9765, -0.9765, -0.9765],\n",
       "           [-0.9843, -0.9843, -0.9843,  ..., -0.9765, -0.9765, -0.9765],\n",
       "           [-0.9843, -0.9843, -0.9843,  ..., -0.9686, -0.9686, -0.9686],\n",
       "           ...,\n",
       "           [-0.9765, -0.9765, -0.9765,  ...,  0.0431,  0.0353,  0.0353],\n",
       "           [-0.9843, -0.9843, -0.9843,  ...,  0.0196,  0.0275,  0.0275],\n",
       "           [-0.9843, -0.9843, -0.9843,  ...,  0.0118,  0.0196,  0.0196]],\n",
       "  \n",
       "          [[-0.3176, -0.3176, -0.3098,  ..., -0.2314, -0.2314, -0.2314],\n",
       "           [-0.3176, -0.3176, -0.3098,  ..., -0.2314, -0.2314, -0.2314],\n",
       "           [-0.3255, -0.3255, -0.3176,  ..., -0.2314, -0.2392, -0.2392],\n",
       "           ...,\n",
       "           [-0.3020, -0.3020, -0.3020,  ..., -0.2078, -0.2078, -0.2157],\n",
       "           [-0.3020, -0.3020, -0.3020,  ..., -0.2314, -0.2314, -0.2392],\n",
       "           [-0.3020, -0.3020, -0.3020,  ..., -0.2471, -0.2471, -0.2471]],\n",
       "  \n",
       "          [[ 0.2000,  0.2078,  0.2157,  ...,  0.3098,  0.3098,  0.3098],\n",
       "           [ 0.2000,  0.2078,  0.2157,  ...,  0.3176,  0.3098,  0.3098],\n",
       "           [ 0.1922,  0.2000,  0.2078,  ...,  0.3255,  0.3176,  0.3176],\n",
       "           ...,\n",
       "           [ 0.2235,  0.2235,  0.2235,  ..., -0.3647, -0.3725, -0.3725],\n",
       "           [ 0.2235,  0.2235,  0.2235,  ..., -0.3882, -0.3804, -0.3804],\n",
       "           [ 0.2235,  0.2235,  0.2235,  ..., -0.3961, -0.3882, -0.3882]]])],\n",
       " array([[ 0.05066781,  0.22329001,  0.00892052, ..., -0.04892959,\n",
       "         -0.09982004, -0.05518991],\n",
       "        [-0.01946861,  0.13000117,  0.07950153, ...,  0.06300553,\n",
       "         -0.017117  ,  0.04497801],\n",
       "        [-0.1338933 , -0.0404736 ,  0.24055414, ..., -0.0608403 ,\n",
       "         -0.08519445,  0.13119039],\n",
       "        ...,\n",
       "        [ 0.06776556,  0.20206906,  0.01130086, ..., -0.04104365,\n",
       "         -0.08932175, -0.07985517],\n",
       "        [-0.05049694,  0.01330831, -0.00811914, ...,  0.05768191,\n",
       "         -0.04677821,  0.00632185],\n",
       "        [-0.07517994,  0.02345232,  0.25381997, ..., -0.04405688,\n",
       "         -0.15455258,  0.19686054]], dtype=float32),\n",
       " '001.Black_footed_Albatross/Black_Footed_Albatross_0046_18')"
      ]
     },
     "execution_count": 13,
     "metadata": {},
     "output_type": "execute_result"
    }
   ],
   "source": [
    "test_dataset.prepair_test_pairs(0)"
   ]
  },
  {
   "cell_type": "code",
   "execution_count": 14,
   "id": "c9022574",
   "metadata": {},
   "outputs": [],
   "source": [
    "trainer = condGANTrainer(output_dir=os.getcwd(), \n",
    "                         data_loader=dataloader, \n",
    "                         imsize=BASE_SIZE, \n",
    "                         is_train=False, \n",
    "                         batch_size=BATCH_SIZE,\n",
    "                        epoch=1, model=model,\n",
    "                        device=device)"
   ]
  },
  {
   "cell_type": "code",
   "execution_count": 15,
   "id": "97a88edf",
   "metadata": {},
   "outputs": [
    {
     "name": "stderr",
     "output_type": "stream",
     "text": [
      "C:\\ProgramData\\Anaconda3\\envs\\pytorch\\lib\\site-packages\\torch\\nn\\functional.py:1806: UserWarning: nn.functional.sigmoid is deprecated. Use torch.sigmoid instead.\n",
      "  warnings.warn(\"nn.functional.sigmoid is deprecated. Use torch.sigmoid instead.\")\n"
     ]
    },
    {
     "name": "stdout",
     "output_type": "stream",
     "text": [
      "Make a new folder:  C:\\Users\\ani_1\\PycharmProjects\\Thesis\\generatedImages/iteration2/super/valid/001.Black_footed_Albatross\n",
      "Make a new folder:  C:\\Users\\ani_1\\PycharmProjects\\Thesis\\generatedImages/iteration2/super/valid/004.Groove_billed_Ani\n",
      "Make a new folder:  C:\\Users\\ani_1\\PycharmProjects\\Thesis\\generatedImages/iteration2/super/valid/006.Least_Auklet\n",
      "Make a new folder:  C:\\Users\\ani_1\\PycharmProjects\\Thesis\\generatedImages/iteration2/super/valid/008.Rhinoceros_Auklet\n",
      "Make a new folder:  C:\\Users\\ani_1\\PycharmProjects\\Thesis\\generatedImages/iteration2/super/valid/009.Brewer_Blackbird\n",
      "Make a new folder:  C:\\Users\\ani_1\\PycharmProjects\\Thesis\\generatedImages/iteration2/super/valid/014.Indigo_Bunting\n",
      "Make a new folder:  C:\\Users\\ani_1\\PycharmProjects\\Thesis\\generatedImages/iteration2/super/valid/023.Brandt_Cormorant\n",
      "Make a new folder:  C:\\Users\\ani_1\\PycharmProjects\\Thesis\\generatedImages/iteration2/super/valid/029.American_Crow\n",
      "Make a new folder:  C:\\Users\\ani_1\\PycharmProjects\\Thesis\\generatedImages/iteration2/super/valid/031.Black_billed_Cuckoo\n",
      "Make a new folder:  C:\\Users\\ani_1\\PycharmProjects\\Thesis\\generatedImages/iteration2/super/valid/033.Yellow_billed_Cuckoo\n",
      "Make a new folder:  C:\\Users\\ani_1\\PycharmProjects\\Thesis\\generatedImages/iteration2/super/valid/034.Gray_crowned_Rosy_Finch\n",
      "Make a new folder:  C:\\Users\\ani_1\\PycharmProjects\\Thesis\\generatedImages/iteration2/super/valid/035.Purple_Finch\n",
      "Make a new folder:  C:\\Users\\ani_1\\PycharmProjects\\Thesis\\generatedImages/iteration2/super/valid/036.Northern_Flicker\n",
      "Make a new folder:  C:\\Users\\ani_1\\PycharmProjects\\Thesis\\generatedImages/iteration2/super/valid/037.Acadian_Flycatcher\n",
      "Make a new folder:  C:\\Users\\ani_1\\PycharmProjects\\Thesis\\generatedImages/iteration2/super/valid/038.Great_Crested_Flycatcher\n",
      "Make a new folder:  C:\\Users\\ani_1\\PycharmProjects\\Thesis\\generatedImages/iteration2/super/valid/043.Yellow_bellied_Flycatcher\n",
      "Make a new folder:  C:\\Users\\ani_1\\PycharmProjects\\Thesis\\generatedImages/iteration2/super/valid/049.Boat_tailed_Grackle\n",
      "Make a new folder:  C:\\Users\\ani_1\\PycharmProjects\\Thesis\\generatedImages/iteration2/super/valid/051.Horned_Grebe\n",
      "Make a new folder:  C:\\Users\\ani_1\\PycharmProjects\\Thesis\\generatedImages/iteration2/super/valid/053.Western_Grebe\n",
      "Make a new folder:  C:\\Users\\ani_1\\PycharmProjects\\Thesis\\generatedImages/iteration2/super/valid/066.Western_Gull\n",
      "Make a new folder:  C:\\Users\\ani_1\\PycharmProjects\\Thesis\\generatedImages/iteration2/super/valid/072.Pomarine_Jaeger\n",
      "Make a new folder:  C:\\Users\\ani_1\\PycharmProjects\\Thesis\\generatedImages/iteration2/super/valid/079.Belted_Kingfisher\n",
      "Make a new folder:  C:\\Users\\ani_1\\PycharmProjects\\Thesis\\generatedImages/iteration2/super/valid/083.White_breasted_Kingfisher\n",
      "Make a new folder:  C:\\Users\\ani_1\\PycharmProjects\\Thesis\\generatedImages/iteration2/super/valid/084.Red_legged_Kittiwake\n",
      "Make a new folder:  C:\\Users\\ani_1\\PycharmProjects\\Thesis\\generatedImages/iteration2/super/valid/086.Pacific_Loon\n",
      "Make a new folder:  C:\\Users\\ani_1\\PycharmProjects\\Thesis\\generatedImages/iteration2/super/valid/091.Mockingbird\n",
      "Make a new folder:  C:\\Users\\ani_1\\PycharmProjects\\Thesis\\generatedImages/iteration2/super/valid/095.Baltimore_Oriole\n",
      "Make a new folder:  C:\\Users\\ani_1\\PycharmProjects\\Thesis\\generatedImages/iteration2/super/valid/096.Hooded_Oriole\n",
      "Make a new folder:  C:\\Users\\ani_1\\PycharmProjects\\Thesis\\generatedImages/iteration2/super/valid/098.Scott_Oriole\n",
      "Make a new folder:  C:\\Users\\ani_1\\PycharmProjects\\Thesis\\generatedImages/iteration2/super/valid/101.White_Pelican\n",
      "Make a new folder:  C:\\Users\\ani_1\\PycharmProjects\\Thesis\\generatedImages/iteration2/super/valid/102.Western_Wood_Pewee\n",
      "Make a new folder:  C:\\Users\\ani_1\\PycharmProjects\\Thesis\\generatedImages/iteration2/super/valid/103.Sayornis\n",
      "Make a new folder:  C:\\Users\\ani_1\\PycharmProjects\\Thesis\\generatedImages/iteration2/super/valid/112.Great_Grey_Shrike\n",
      "Make a new folder:  C:\\Users\\ani_1\\PycharmProjects\\Thesis\\generatedImages/iteration2/super/valid/114.Black_throated_Sparrow\n",
      "Make a new folder:  C:\\Users\\ani_1\\PycharmProjects\\Thesis\\generatedImages/iteration2/super/valid/119.Field_Sparrow\n",
      "Make a new folder:  C:\\Users\\ani_1\\PycharmProjects\\Thesis\\generatedImages/iteration2/super/valid/121.Grasshopper_Sparrow\n",
      "Make a new folder:  C:\\Users\\ani_1\\PycharmProjects\\Thesis\\generatedImages/iteration2/super/valid/130.Tree_Sparrow\n",
      "Make a new folder:  C:\\Users\\ani_1\\PycharmProjects\\Thesis\\generatedImages/iteration2/super/valid/135.Bank_Swallow\n",
      "Make a new folder:  C:\\Users\\ani_1\\PycharmProjects\\Thesis\\generatedImages/iteration2/super/valid/138.Tree_Swallow\n",
      "Make a new folder:  C:\\Users\\ani_1\\PycharmProjects\\Thesis\\generatedImages/iteration2/super/valid/147.Least_Tern\n",
      "Make a new folder:  C:\\Users\\ani_1\\PycharmProjects\\Thesis\\generatedImages/iteration2/super/valid/156.White_eyed_Vireo\n",
      "Make a new folder:  C:\\Users\\ani_1\\PycharmProjects\\Thesis\\generatedImages/iteration2/super/valid/163.Cape_May_Warbler\n",
      "Make a new folder:  C:\\Users\\ani_1\\PycharmProjects\\Thesis\\generatedImages/iteration2/super/valid/165.Chestnut_sided_Warbler\n",
      "Make a new folder:  C:\\Users\\ani_1\\PycharmProjects\\Thesis\\generatedImages/iteration2/super/valid/166.Golden_winged_Warbler\n",
      "Make a new folder:  C:\\Users\\ani_1\\PycharmProjects\\Thesis\\generatedImages/iteration2/super/valid/180.Wilson_Warbler\n",
      "Make a new folder:  C:\\Users\\ani_1\\PycharmProjects\\Thesis\\generatedImages/iteration2/super/valid/183.Northern_Waterthrush\n",
      "Make a new folder:  C:\\Users\\ani_1\\PycharmProjects\\Thesis\\generatedImages/iteration2/super/valid/185.Bohemian_Waxwing\n",
      "Make a new folder:  C:\\Users\\ani_1\\PycharmProjects\\Thesis\\generatedImages/iteration2/super/valid/186.Cedar_Waxwing\n",
      "Make a new folder:  C:\\Users\\ani_1\\PycharmProjects\\Thesis\\generatedImages/iteration2/super/valid/187.American_Three_toed_Woodpecker\n",
      "Make a new folder:  C:\\Users\\ani_1\\PycharmProjects\\Thesis\\generatedImages/iteration2/super/valid/197.Marsh_Wren\n"
     ]
    }
   ],
   "source": [
    "trainer.evaluate(split_dir='test', z_dim=Z_DIM, test_b_example=TEST_B_EXAMPLE, it=ITERATION)"
   ]
  },
  {
   "cell_type": "code",
   "execution_count": null,
   "id": "bfd3ee79",
   "metadata": {},
   "outputs": [],
   "source": []
  }
 ],
 "metadata": {
  "kernelspec": {
   "display_name": "Python 3 (ipykernel)",
   "language": "python",
   "name": "python3"
  },
  "language_info": {
   "codemirror_mode": {
    "name": "ipython",
    "version": 3
   },
   "file_extension": ".py",
   "mimetype": "text/x-python",
   "name": "python",
   "nbconvert_exporter": "python",
   "pygments_lexer": "ipython3",
   "version": "3.9.7"
  }
 },
 "nbformat": 4,
 "nbformat_minor": 5
}
